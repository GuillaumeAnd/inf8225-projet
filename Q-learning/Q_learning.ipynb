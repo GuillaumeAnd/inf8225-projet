{
  "nbformat": 4,
  "nbformat_minor": 0,
  "metadata": {
    "colab": {
      "name": "Q-learning",
      "provenance": []
    },
    "kernelspec": {
      "name": "python3",
      "display_name": "Python 3"
    },
    "language_info": {
      "name": "python"
    }
  },
  "cells": [
    {
      "cell_type": "code",
      "execution_count": 1,
      "metadata": {
        "colab": {
          "base_uri": "https://localhost:8080/"
        },
        "id": "Sz5zt6LdgnJB",
        "outputId": "f03c9a43-dce4-4ef3-a368-255a3c316b2f"
      },
      "outputs": [
        {
          "output_type": "stream",
          "name": "stdout",
          "text": [
            "Requirement already satisfied: gym[box2d]==0.17.* in /usr/local/lib/python3.7/dist-packages (0.17.3)\n",
            "Collecting pyvirtualdisplay==0.2.*\n",
            "  Downloading PyVirtualDisplay-0.2.5-py2.py3-none-any.whl (13 kB)\n",
            "Requirement already satisfied: PyOpenGL==3.1.* in /usr/local/lib/python3.7/dist-packages (3.1.6)\n",
            "Collecting PyOpenGL-accelerate==3.1.*\n",
            "  Downloading PyOpenGL-accelerate-3.1.5.tar.gz (538 kB)\n",
            "\u001b[K     |████████████████████████████████| 538 kB 9.9 MB/s \n",
            "\u001b[?25hCollecting EasyProcess\n",
            "  Downloading EasyProcess-1.1-py3-none-any.whl (8.7 kB)\n",
            "Requirement already satisfied: scipy in /usr/local/lib/python3.7/dist-packages (from gym[box2d]==0.17.*) (1.4.1)\n",
            "Requirement already satisfied: pyglet<=1.5.0,>=1.4.0 in /usr/local/lib/python3.7/dist-packages (from gym[box2d]==0.17.*) (1.5.0)\n",
            "Requirement already satisfied: cloudpickle<1.7.0,>=1.2.0 in /usr/local/lib/python3.7/dist-packages (from gym[box2d]==0.17.*) (1.3.0)\n",
            "Requirement already satisfied: numpy>=1.10.4 in /usr/local/lib/python3.7/dist-packages (from gym[box2d]==0.17.*) (1.21.6)\n",
            "Collecting box2d-py~=2.3.5\n",
            "  Downloading box2d_py-2.3.8-cp37-cp37m-manylinux1_x86_64.whl (448 kB)\n",
            "\u001b[K     |████████████████████████████████| 448 kB 44.6 MB/s \n",
            "\u001b[?25hRequirement already satisfied: future in /usr/local/lib/python3.7/dist-packages (from pyglet<=1.5.0,>=1.4.0->gym[box2d]==0.17.*) (0.16.0)\n",
            "Building wheels for collected packages: PyOpenGL-accelerate\n",
            "  Building wheel for PyOpenGL-accelerate (setup.py) ... \u001b[?25l\u001b[?25hdone\n",
            "  Created wheel for PyOpenGL-accelerate: filename=PyOpenGL_accelerate-3.1.5-cp37-cp37m-linux_x86_64.whl size=1599530 sha256=7c78d21cf32970d9f8cc38cd4a5044dcd49507ebfd5f19396baa82802bb70fa2\n",
            "  Stored in directory: /root/.cache/pip/wheels/1c/f5/6f/169afb3f2d476c5e807f8515b3c9bc9b819c3962316aa804eb\n",
            "Successfully built PyOpenGL-accelerate\n",
            "Installing collected packages: EasyProcess, box2d-py, pyvirtualdisplay, PyOpenGL-accelerate\n",
            "  Attempting uninstall: pyvirtualdisplay\n",
            "    Found existing installation: PyVirtualDisplay 3.0\n",
            "    Uninstalling PyVirtualDisplay-3.0:\n",
            "      Successfully uninstalled PyVirtualDisplay-3.0\n",
            "Successfully installed EasyProcess-1.1 PyOpenGL-accelerate-3.1.5 box2d-py-2.3.8 pyvirtualdisplay-0.2.5\n"
          ]
        },
        {
          "output_type": "execute_result",
          "data": {
            "text/plain": [
              "<Display cmd_param=['Xvfb', '-br', '-nolisten', 'tcp', '-screen', '0', '400x300x24', ':1001'] cmd=['Xvfb', '-br', '-nolisten', 'tcp', '-screen', '0', '400x300x24', ':1001'] oserror=None return_code=None stdout=\"None\" stderr=\"None\" timeout_happened=False>"
            ]
          },
          "metadata": {},
          "execution_count": 1
        }
      ],
      "source": [
        "# Import\n",
        "!apt-get install x11-utils > /dev/null 2>&1 \n",
        "!pip install pyglet > /dev/null 2>&1 \n",
        "!apt-get install -y xvfb python-opengl > /dev/null 2>&1\n",
        "\n",
        "!pip install gym pyvirtualdisplay > /dev/null 2>&1\n",
        "\n",
        "!pip install gym[box2d]==0.17.* pyvirtualdisplay==0.2.* PyOpenGL==3.1.* PyOpenGL-accelerate==3.1.*\n",
        "\n",
        "import gym\n",
        "import numpy as np\n",
        "import matplotlib.pyplot as plt\n",
        "from IPython import display as ipythondisplay\n",
        "\n",
        "from pyvirtualdisplay import Display\n",
        "display = Display(visible=0, size=(400, 300))\n",
        "display.start()"
      ]
    },
    {
      "cell_type": "code",
      "source": [
        "import numpy as np\n",
        "import random\n",
        "import gym\n",
        "import math\n",
        "from collections import defaultdict, deque\n",
        "import matplotlib.pyplot as plt\n",
        "\n",
        "ENV = \"BipedalWalker-v3\"\n",
        "\n",
        "EPISODES = 500\n",
        "GAMMA =  0.99\n",
        "ALPHA = 0.01\n",
        "HIGHSCORE = -200\n",
        "\n",
        "stateBounds = [(0, math.pi),\n",
        "           (-2,2),\n",
        "           (-1,1),\n",
        "           (-1,1),\n",
        "           (0,math.pi),\n",
        "           (-2,2),\n",
        "           (0, math.pi),\n",
        "           (-2,2),\n",
        "           (0,1),\n",
        "           (0, math.pi),\n",
        "           (-2, 2),\n",
        "           (0, math.pi),\n",
        "           (-2, 2),\n",
        "           (0, 1)]\n",
        "\n",
        "actionBounds = (-1, 1)"
      ],
      "metadata": {
        "id": "dkCLbQWzohJ2"
      },
      "execution_count": 2,
      "outputs": []
    },
    {
      "cell_type": "code",
      "source": [
        "def updateQTable (Qtable, state, action, reward, nextState=None):\n",
        "    global ALPHA\n",
        "    global GAMMA\n",
        "\n",
        "    current = Qtable[state][action]  \n",
        "    qNext = np.max(Qtable[nextState]) if nextState is not None else 0\n",
        "    target = reward + (GAMMA * qNext)\n",
        "    new_value = current + (ALPHA * (target - current))\n",
        "    return new_value\n",
        "\n",
        "def getNextAction(qTable, epsilon, state):\n",
        "    if random.random() < epsilon:\n",
        "        action = ()\n",
        "        for i in range (0, 4):\n",
        "            action += (random.randint(0, 9),)\n",
        "\n",
        "    else:\n",
        "        action = np.unravel_index(np.argmax(qTable[state]), qTable[state].shape)\n",
        "\n",
        "    return action\n",
        "\n",
        "def discretizeState(state):\n",
        "    discreteState = []\n",
        "\n",
        "    for i in range(len(state)):\n",
        "        index = int((state[i]-stateBounds[i][0])  / (stateBounds[i][1]-stateBounds[i][0])*19)\n",
        "        discreteState.append(index)\n",
        "    \n",
        "    return tuple(discreteState)\n",
        "\n",
        "\n",
        "def convertNextAction(nextAction):\n",
        "    action = []\n",
        "\n",
        "    for i in range(len(nextAction)):\n",
        "        nextVal = nextAction[i] / 9 * 2 - 1\n",
        "        action.append(nextVal)\n",
        "\n",
        "    return tuple(action)\n",
        "\n",
        "def plotEpisode(myGraph, xval, yval, epScore, plotLine, i):\n",
        "    xval.append(i)\n",
        "    yval.append(epScore)\n",
        "\n",
        "    plotLine.set_xdata(xval)\n",
        "    plotLine.set_ydata(yval)\n",
        "    myGraph.savefig(\"./plot\")\n",
        "\n",
        "def runAlgorithmStep(env, i, qTable, doRender):\n",
        "    global HIGHSCORE\n",
        "\n",
        "    if(doRender):\n",
        "        env.render()\n",
        "\n",
        "    state = discretizeState(env.reset()[0:14])\n",
        "    total_reward = 0\n",
        "    epsilon = 1.0 / ( i * .004)\n",
        "\n",
        "    while True: \n",
        "        nextAction = convertNextAction(getNextAction(qTable, epsilon, state))\n",
        "        nextActionDiscretized = getNextAction(qTable, epsilon, state)\n",
        "        nextState, reward, done, info = env.step(nextAction)\n",
        "        nextState = discretizeState(nextState[0:14])\n",
        "        total_reward += reward\n",
        "        qTable[state][nextActionDiscretized] = updateQTable(qTable, state, nextActionDiscretized, reward, nextState)\n",
        "        state = nextState\n",
        "        if done:\n",
        "            break\n",
        "    \n",
        "    if total_reward > HIGHSCORE:\n",
        "        HIGHSCORE = total_reward\n",
        "\n",
        "    return total_reward"
      ],
      "metadata": {
        "id": "y_1P7S3rgpko"
      },
      "execution_count": 3,
      "outputs": []
    },
    {
      "cell_type": "code",
      "source": [
        "global HIGHSCORE\n",
        "    \n",
        "visualize = input(\"Visualize? [y/n]\\n\")\n",
        "if visualize == 'y':\n",
        "    doRender = True\n",
        "else:\n",
        "    doRender = False\n",
        "\n",
        "env = gym.make(ENV)\n",
        "\n",
        "qTable = defaultdict( lambda: np.zeros((10, 10, 10, 10)))\n",
        "\n",
        "myGraph = plt.figure()\n",
        "xval, yval = [], []\n",
        "mySubPlot = myGraph.add_subplot()\n",
        "plt.xlabel(\"Episode #\")\n",
        "plt.ylabel(\"Score\")\n",
        "plt.title(\"Scores vs Episode\")\n",
        "plotLine, = mySubPlot.plot(xval, yval)\n",
        "mySubPlot.set_xlim([0, EPISODES])\n",
        "mySubPlot.set_ylim([-220, -80])\n",
        "\n",
        "\n",
        "for i in range(1, EPISODES + 1):\n",
        "    epScore = runAlgorithmStep(env, i, qTable, doRender)\n",
        "    #print(\"Episode finished. Now plotting..\")\n",
        "    plotEpisode(myGraph, xval, yval, epScore, plotLine, i)\n",
        "    \n",
        "print(\"All episodes finished. Highest score achieved: \" + str(HIGHSCORE))"
      ],
      "metadata": {
        "colab": {
          "base_uri": "https://localhost:8080/",
          "height": 382
        },
        "id": "gyzCE43JgpnG",
        "outputId": "72a41571-6818-4d9d-a90f-749ec97edbdb"
      },
      "execution_count": 4,
      "outputs": [
        {
          "name": "stdout",
          "output_type": "stream",
          "text": [
            "Visualize? [y/n]\n",
            "n\n"
          ]
        },
        {
          "output_type": "stream",
          "name": "stderr",
          "text": [
            "/usr/local/lib/python3.7/dist-packages/gym/logger.py:30: UserWarning: \u001b[33mWARN: Box bound precision lowered by casting to float32\u001b[0m\n",
            "  warnings.warn(colorize('%s: %s'%('WARN', msg % args), 'yellow'))\n"
          ]
        },
        {
          "output_type": "stream",
          "name": "stdout",
          "text": [
            "All episodes finished. Highest score achieved: -82.12170963743588\n"
          ]
        },
        {
          "output_type": "display_data",
          "data": {
            "text/plain": [
              "<Figure size 432x288 with 1 Axes>"
            ],
            "image/png": "[encoded data removed]"
          },
          "metadata": {
            "needs_background": "light"
          }
        }
      ]
    },
    {
      "cell_type": "code",
      "source": [
        ""
      ],
      "metadata": {
        "id": "XRRCzCidgppr"
      },
      "execution_count": null,
      "outputs": []
    },
    {
      "cell_type": "code",
      "source": [
        ""
      ],
      "metadata": {
        "id": "USxnoM1vgpsI"
      },
      "execution_count": null,
      "outputs": []
    }
  ]
}